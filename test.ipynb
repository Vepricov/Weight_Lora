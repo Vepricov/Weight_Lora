{
 "cells": [
  {
   "cell_type": "code",
   "execution_count": 4,
   "metadata": {},
   "outputs": [],
   "source": [
    "import pandas as pd\n",
    "import json\n",
    "# from unsloth import FastLanguageModel\n",
    "# from unsloth.chat_templates import get_chat_template\n",
    "# from unsloth import is_bfloat16_supported\n",
    "# from trl import SFTTrainer\n",
    "from transformers import TrainingArguments, HfArgumentParser\n",
    "from dataclasses import dataclass\n",
    "from datasets import Dataset\n",
    "import torch_optimizer\n",
    "import torch"
   ]
  },
  {
   "cell_type": "code",
   "execution_count": 7,
   "metadata": {},
   "outputs": [
    {
     "data": {
      "text/plain": [
       "[tensor(1), tensor(1)]"
      ]
     },
     "execution_count": 7,
     "metadata": {},
     "output_type": "execute_result"
    }
   ],
   "source": [
    "a = torch.tensor([0, 0, 0, 1, 1, 0])\n",
    "idx = [i for i in a.shape if i > 0]\n",
    "idx"
   ]
  },
  {
   "cell_type": "code",
   "execution_count": 17,
   "metadata": {},
   "outputs": [
    {
     "name": "stdout",
     "output_type": "stream",
     "text": [
      "{'active_adapters_1': 'value#5', 'active_adapters_10': 'value#11', 'active_adapters_2': 'value#6', 'active_adapters_3': 'value#7', 'active_adapters_4': 'value#8', 'active_adapters_5': 'value#9', 'active_adapters_6': 'key#10', 'active_adapters_7': 'value#10', 'active_adapters_8': 'query#11', 'active_adapters_9': 'key#11', 'epoch': 1.4593824228028502, 'eval_accuracy': 0.9472477064220184, 'eval_loss': 0.15586502850055695, 'eval_runtime': 2.349, 'eval_samples': 872, 'eval_samples_per_second': 371.224, 'eval_steps_per_second': 11.92, 'total_flos': 6499006338439680.0, 'train_loss': 0.2506979462923482, 'train_memory_gb': 6.5331926345825195, 'train_runtime': 10.963231666666667, 'train_samples': 67349, 'train_samples_per_second': 149.445, 'train_steps_per_second': 0.778}\n",
      "{'active_adapters_1': 'value#8', 'active_adapters_2': 'value#9', 'active_adapters_3': 'value#10', 'active_adapters_4': 'key#11', 'active_adapters_5': 'value#11', 'epoch': 1.4593824228028502, 'eval_accuracy': 0.9426605504587156, 'eval_loss': 0.16940219700336456, 'eval_runtime': 2.4226, 'eval_samples': 872, 'eval_samples_per_second': 359.939, 'eval_steps_per_second': 11.558, 'total_flos': 6499006338439680.0, 'train_loss': 0.27623511309502646, 'train_memory_gb': 6.5331926345825195, 'train_runtime': 10.966438333333334, 'train_samples': 67349, 'train_samples_per_second': 149.401, 'train_steps_per_second': 0.778}\n",
      "{'active_adapters_1': 'value#8', 'active_adapters_2': 'key#10', 'active_adapters_3': 'value#10', 'active_adapters_4': 'query#11', 'active_adapters_5': 'value#11', 'epoch': 0.2503259452411995, 'eval_accuracy': 0.8638120423108218, 'eval_loss': 0.3649160861968994, 'eval_runtime': 26.7252, 'eval_samples': 9832, 'eval_samples_per_second': 367.892, 'eval_steps_per_second': 11.525, 'total_flos': 6499791701803008.0, 'train_loss': 0.5594488628557883, 'train_memory_gb': 6.533195495605469, 'train_runtime': 14.232040000000001, 'train_samples': 392702, 'train_samples_per_second': 115.121, 'train_steps_per_second': 0.6}\n",
      "{'active_adapters_1': 'query#3', 'active_adapters_10': 'value#11', 'active_adapters_2': 'key#3', 'active_adapters_3': 'value#4', 'active_adapters_4': 'value#8', 'active_adapters_5': 'value#9', 'active_adapters_6': 'key#10', 'active_adapters_7': 'value#10', 'active_adapters_8': 'query#11', 'active_adapters_9': 'key#11', 'epoch': 0.2503259452411995, 'eval_accuracy': 0.870626525630594, 'eval_loss': 0.3444303274154663, 'eval_runtime': 26.7912, 'eval_samples': 9832, 'eval_samples_per_second': 366.987, 'eval_steps_per_second': 11.496, 'total_flos': 6499791701803008.0, 'train_loss': 0.5290017838706262, 'train_memory_gb': 6.533195495605469, 'train_runtime': 14.273683333333334, 'train_samples': 392702, 'train_samples_per_second': 114.785, 'train_steps_per_second': 0.598}\n",
      "{'active_adapters_1': 'value#10', 'epoch': 17.066666666666666, 'eval_combined_score': 0.8596423307311537, 'eval_loss': 0.6633880734443665, 'eval_pearson': 0.8454271660551687, 'eval_runtime': 4.0207, 'eval_samples': 1500, 'eval_samples_per_second': 373.071, 'eval_spearmanr': 0.8738574954071388, 'eval_steps_per_second': 11.69, 'total_flos': 6487311498406656.0, 'train_loss': 1.9646413220325485, 'train_memory_gb': 6.53318977355957, 'train_runtime': 34.68832833333333, 'train_samples': 5749, 'train_samples_per_second': 47.232, 'train_steps_per_second': 0.246}\n",
      "{'active_adapters_1': 'value#11', 'epoch': 26.713043478260868, 'eval_accuracy': 0.8308823529411765, 'eval_combined_score': 0.8566677522797876, 'eval_f1': 0.8824531516183987, 'eval_loss': 0.3816204369068146, 'eval_runtime': 1.1651, 'eval_samples': 408, 'eval_samples_per_second': 350.198, 'eval_steps_per_second': 11.158, 'total_flos': 6479104606801920.0, 'train_loss': 0.45998158876318485, 'train_memory_gb': 6.5331926345825195, 'train_runtime': 32.98885, 'train_samples': 3668, 'train_samples_per_second': 49.665, 'train_steps_per_second': 0.259}\n",
      "{'active_adapters_1': 'value#10', 'epoch': 0.9383017715332926, 'eval_accuracy': 0.8724144243089877, 'eval_loss': 0.3167034983634949, 'eval_runtime': 14.981, 'eval_samples': 5463, 'eval_samples_per_second': 364.662, 'eval_steps_per_second': 11.414, 'total_flos': 6499733644247040.0, 'train_loss': 0.4622076007653959, 'train_memory_gb': 6.5331926345825195, 'train_runtime': 12.730256666666666, 'train_samples': 104743, 'train_samples_per_second': 128.701, 'train_steps_per_second': 0.67}\n",
      "{'active_adapters_1': 'value#4', 'active_adapters_10': 'value#11', 'active_adapters_2': 'value#6', 'active_adapters_3': 'value#7', 'active_adapters_4': 'value#8', 'active_adapters_5': 'value#9', 'active_adapters_6': 'query#10', 'active_adapters_7': 'key#10', 'active_adapters_8': 'value#10', 'active_adapters_9': 'key#11', 'epoch': 11.462686567164178, 'eval_loss': 0.4278945326805115, 'eval_matthews_correlation': 0.670267087346549, 'eval_runtime': 2.9418, 'eval_samples': 1043, 'eval_samples_per_second': 354.55, 'eval_steps_per_second': 11.218, 'total_flos': 6481550999063040.0, 'train_loss': 0.2963522005302366, 'train_memory_gb': 6.5331926345825195, 'train_runtime': 11.035423333333334, 'train_samples': 8551, 'train_samples_per_second': 148.467, 'train_steps_per_second': 0.773}\n",
      "{'active_adapters_1': 'value#8', 'active_adapters_2': 'value#9', 'active_adapters_3': 'key#10', 'active_adapters_4': 'value#10', 'active_adapters_5': 'value#11', 'epoch': 11.462686567164178, 'eval_loss': 0.3877233862876892, 'eval_matthews_correlation': 0.6490535130984493, 'eval_runtime': 2.8472, 'eval_samples': 1043, 'eval_samples_per_second': 366.321, 'eval_steps_per_second': 11.59, 'total_flos': 6481550999063040.0, 'train_loss': 0.353874961292604, 'train_memory_gb': 6.5331926345825195, 'train_runtime': 10.97293, 'train_samples': 8551, 'train_samples_per_second': 149.313, 'train_steps_per_second': 0.778}\n",
      "{'active_adapters_1': 'value#10', 'epoch': 0.2503259452411995, 'eval_accuracy': 0.7911920260374288, 'eval_loss': 0.5689704418182373, 'eval_runtime': 26.8703, 'eval_samples': 9832, 'eval_samples_per_second': 365.906, 'eval_steps_per_second': 11.462, 'total_flos': 6499791701803008.0, 'train_loss': 0.818801112473011, 'train_memory_gb': 6.533195495605469, 'train_runtime': 14.210668333333333, 'train_samples': 392702, 'train_samples_per_second': 115.294, 'train_steps_per_second': 0.6}\n",
      "{'active_adapters_1': 'value#11', 'epoch': 1.4593824228028502, 'eval_accuracy': 0.8876146788990825, 'eval_loss': 0.27126485109329224, 'eval_runtime': 2.3448, 'eval_samples': 872, 'eval_samples_per_second': 371.887, 'eval_steps_per_second': 11.941, 'total_flos': 6499006338439680.0, 'train_loss': 0.3876057167944964, 'train_memory_gb': 6.5331926345825195, 'train_runtime': 11.017525000000001, 'train_samples': 67349, 'train_samples_per_second': 148.709, 'train_steps_per_second': 0.775}\n",
      "{'active_adapters_1': 'value#6', 'active_adapters_10': 'value#11', 'active_adapters_2': 'value#7', 'active_adapters_3': 'value#8', 'active_adapters_4': 'value#9', 'active_adapters_5': 'query#10', 'active_adapters_6': 'key#10', 'active_adapters_7': 'value#10', 'active_adapters_8': 'query#11', 'active_adapters_9': 'key#11', 'epoch': 0.27016093571365757, 'eval_accuracy': 0.8727924808310661, 'eval_combined_score': 0.854472636605281, 'eval_f1': 0.836152792379496, 'eval_loss': 0.2930339574813843, 'eval_runtime': 108.0279, 'eval_samples': 40430, 'eval_samples_per_second': 374.255, 'eval_steps_per_second': 11.701, 'total_flos': 6499733644247040.0, 'train_loss': 0.3584921188012231, 'train_memory_gb': 6.5331926345825195, 'train_runtime': 25.027408333333334, 'train_samples': 363846, 'train_samples_per_second': 65.464, 'train_steps_per_second': 0.341}\n",
      "{'active_adapters_1': 'value#4', 'active_adapters_10': 'value#11', 'active_adapters_2': 'value#6', 'active_adapters_3': 'value#7', 'active_adapters_4': 'value#8', 'active_adapters_5': 'value#9', 'active_adapters_6': 'query#10', 'active_adapters_7': 'key#10', 'active_adapters_8': 'value#10', 'active_adapters_9': 'key#11', 'epoch': 17.066666666666666, 'eval_combined_score': 0.8951776863642001, 'eval_loss': 0.5758686065673828, 'eval_pearson': 0.8896787458237689, 'eval_runtime': 4.0012, 'eval_samples': 1500, 'eval_samples_per_second': 374.885, 'eval_spearmanr': 0.9006766269046314, 'eval_steps_per_second': 11.746, 'total_flos': 6487311498406656.0, 'train_loss': 1.1014063967741095, 'train_memory_gb': 6.53318977355957, 'train_runtime': 11.096708333333334, 'train_samples': 5749, 'train_samples_per_second': 147.647, 'train_steps_per_second': 0.769}\n",
      "{'active_adapters_1': 'value#8', 'active_adapters_2': 'value#9', 'active_adapters_3': 'key#10', 'active_adapters_4': 'value#10', 'active_adapters_5': 'value#11', 'epoch': 17.066666666666666, 'eval_combined_score': 0.8920177149011603, 'eval_loss': 0.5807738304138184, 'eval_pearson': 0.8859022378356229, 'eval_runtime': 4.0535, 'eval_samples': 1500, 'eval_samples_per_second': 370.049, 'eval_spearmanr': 0.8981331919666977, 'eval_steps_per_second': 11.595, 'total_flos': 6487311498406656.0, 'train_loss': 1.1493584814597853, 'train_memory_gb': 6.53318977355957, 'train_runtime': 11.102046666666666, 'train_samples': 5749, 'train_samples_per_second': 147.576, 'train_steps_per_second': 0.769}\n",
      "{'active_adapters_1': 'value#8', 'active_adapters_2': 'value#9', 'active_adapters_3': 'key#10', 'active_adapters_4': 'value#10', 'active_adapters_5': 'value#11', 'epoch': 0.27016093571365757, 'eval_accuracy': 0.8685134800890428, 'eval_combined_score': 0.8488454289905368, 'eval_f1': 0.8291773778920308, 'eval_loss': 0.30148443579673767, 'eval_runtime': 188.0324, 'eval_samples': 40430, 'eval_samples_per_second': 215.016, 'eval_steps_per_second': 6.722, 'total_flos': 6499733644247040.0, 'train_loss': 0.3741751284105703, 'train_memory_gb': 6.5331926345825195, 'train_runtime': 42.042535, 'train_samples': 363846, 'train_samples_per_second': 38.97, 'train_steps_per_second': 0.203}\n",
      "{'active_adapters_1': 'value#8', 'active_adapters_2': 'value#9', 'active_adapters_3': 'value#10', 'active_adapters_4': 'key#11', 'active_adapters_5': 'value#11', 'epoch': 26.713043478260868, 'eval_accuracy': 0.8799019607843137, 'eval_combined_score': 0.897342284739983, 'eval_f1': 0.9147826086956522, 'eval_loss': 0.35847482085227966, 'eval_runtime': 1.1259, 'eval_samples': 408, 'eval_samples_per_second': 362.372, 'eval_steps_per_second': 11.546, 'total_flos': 6479104606801920.0, 'train_loss': 0.226518808703986, 'train_memory_gb': 6.5331926345825195, 'train_runtime': 10.825195, 'train_samples': 3668, 'train_samples_per_second': 151.351, 'train_steps_per_second': 0.788}\n",
      "{'active_adapters_1': 'value#4', 'active_adapters_10': 'value#11', 'active_adapters_2': 'value#7', 'active_adapters_3': 'value#8', 'active_adapters_4': 'value#9', 'active_adapters_5': 'query#10', 'active_adapters_6': 'key#10', 'active_adapters_7': 'value#10', 'active_adapters_8': 'query#11', 'active_adapters_9': 'key#11', 'epoch': 26.713043478260868, 'eval_accuracy': 0.8774509803921569, 'eval_combined_score': 0.8937614614191001, 'eval_f1': 0.9100719424460432, 'eval_loss': 0.3722935616970062, 'eval_runtime': 1.1169, 'eval_samples': 408, 'eval_samples_per_second': 365.281, 'eval_steps_per_second': 11.639, 'total_flos': 6479104606801920.0, 'train_loss': 0.17981932511975174, 'train_memory_gb': 6.5331926345825195, 'train_runtime': 10.870336666666667, 'train_samples': 3668, 'train_samples_per_second': 150.722, 'train_steps_per_second': 0.785}\n",
      "{'active_adapters_1': 'value#11', 'epoch': 0.27016093571365757, 'eval_accuracy': 0.8306455602275538, 'eval_combined_score': 0.8059911925942163, 'eval_f1': 0.7813368249608789, 'eval_loss': 0.37401559948921204, 'eval_runtime': 207.1166, 'eval_samples': 40430, 'eval_samples_per_second': 195.204, 'eval_steps_per_second': 6.103, 'total_flos': 6499733644247040.0, 'train_loss': 0.4499928216682747, 'train_memory_gb': 6.5331926345825195, 'train_runtime': 33.36299666666667, 'train_samples': 363846, 'train_samples_per_second': 49.108, 'train_steps_per_second': 0.256}\n",
      "{'active_adapters_1': 'query#0', 'active_adapters_2': 'key#3', 'active_adapters_3': 'value#3', 'active_adapters_4': 'query#4', 'active_adapters_5': 'value#5', 'epoch': 39.38461538461539, 'eval_accuracy': 0.555956678700361, 'eval_loss': 0.7349116802215576, 'eval_runtime': 0.7779, 'eval_samples': 277, 'eval_samples_per_second': 356.101, 'eval_steps_per_second': 11.57, 'total_flos': 6484261866163200.0, 'train_loss': 0.5540909016272053, 'train_memory_gb': 6.5331926345825195, 'train_runtime': 10.817396666666667, 'train_samples': 2490, 'train_samples_per_second': 151.46, 'train_steps_per_second': 0.789}\n",
      "{'active_adapters_1': 'value#6', 'active_adapters_2': 'value#7', 'active_adapters_3': 'value#8', 'active_adapters_4': 'value#10', 'active_adapters_5': 'value#11', 'epoch': 0.9383017715332926, 'eval_accuracy': 0.9136005857587406, 'eval_loss': 0.22189098596572876, 'eval_runtime': 15.0713, 'eval_samples': 5463, 'eval_samples_per_second': 362.478, 'eval_steps_per_second': 11.346, 'total_flos': 6499733644247040.0, 'train_loss': 0.37031027625198476, 'train_memory_gb': 6.5331926345825195, 'train_runtime': 12.742536666666666, 'train_samples': 104743, 'train_samples_per_second': 128.577, 'train_steps_per_second': 0.67}\n",
      "{'active_adapters_1': 'value#2', 'active_adapters_10': 'value#11', 'active_adapters_2': 'query#3', 'active_adapters_3': 'value#3', 'active_adapters_4': 'value#6', 'active_adapters_5': 'value#7', 'active_adapters_6': 'value#8', 'active_adapters_7': 'value#9', 'active_adapters_8': 'value#10', 'active_adapters_9': 'key#11', 'epoch': 0.9383017715332926, 'eval_accuracy': 0.9167124290682775, 'eval_loss': 0.21271362900733948, 'eval_runtime': 14.9044, 'eval_samples': 5463, 'eval_samples_per_second': 366.537, 'eval_steps_per_second': 11.473, 'total_flos': 6499733644247040.0, 'train_loss': 0.3519202568277251, 'train_memory_gb': 6.5331926345825195, 'train_runtime': 12.659564999999999, 'train_samples': 104743, 'train_samples_per_second': 129.42, 'train_steps_per_second': 0.674}\n",
      "{'active_adapters_1': 'query#4', 'epoch': 39.38461538461539, 'eval_accuracy': 0.5270758122743683, 'eval_loss': 0.6926156878471375, 'eval_runtime': 0.7854, 'eval_samples': 277, 'eval_samples_per_second': 352.674, 'eval_steps_per_second': 11.459, 'total_flos': 6484261866163200.0, 'train_loss': 0.6936817718669772, 'train_memory_gb': 6.5331926345825195, 'train_runtime': 10.820921666666667, 'train_samples': 2490, 'train_samples_per_second': 151.41, 'train_steps_per_second': 0.789}\n",
      "{'active_adapters_1': 'value#11', 'epoch': 11.462686567164178, 'eval_loss': 0.43724122643470764, 'eval_matthews_correlation': 0.5624034645452709, 'eval_runtime': 2.8239, 'eval_samples': 1043, 'eval_samples_per_second': 369.354, 'eval_steps_per_second': 11.686, 'total_flos': 6481550999063040.0, 'train_loss': 0.4418853195384145, 'train_memory_gb': 6.5331926345825195, 'train_runtime': 10.976471666666667, 'train_samples': 8551, 'train_samples_per_second': 149.265, 'train_steps_per_second': 0.777}\n",
      "{'active_adapters_1': 'query#0', 'active_adapters_10': 'value#5', 'active_adapters_2': 'query#1', 'active_adapters_3': 'key#3', 'active_adapters_4': 'value#3', 'active_adapters_5': 'query#4', 'active_adapters_6': 'key#4', 'active_adapters_7': 'value#4', 'active_adapters_8': 'query#5', 'active_adapters_9': 'key#5', 'epoch': 39.38461538461539, 'eval_accuracy': 0.5342960288808665, 'eval_loss': 0.8279609680175781, 'eval_runtime': 0.7816, 'eval_samples': 277, 'eval_samples_per_second': 354.389, 'eval_steps_per_second': 11.514, 'total_flos': 6484261866163200.0, 'train_loss': 0.4925111113698222, 'train_memory_gb': 6.5331926345825195, 'train_runtime': 10.85097, 'train_samples': 2490, 'train_samples_per_second': 150.991, 'train_steps_per_second': 0.786}\n",
      "24\n"
     ]
    }
   ],
   "source": [
    "import os, json\n",
    "INTERSTING_K = [1, 5, 10]\n",
    "NUM_INTERESTING_FILES = 0\n",
    "for folder in os.listdir(\"./train_outputs\"):\n",
    "    flag = True\n",
    "    for k in INTERSTING_K:\n",
    "        if f\"[WeightLoRA, k={k}]\" in folder:\n",
    "            flag = False\n",
    "    if flag:\n",
    "        continue\n",
    "    NUM_INTERESTING_FILES += 1\n",
    "    with open(f\"./train_outputs/{folder}/all_results.json\", \"r\") as f:\n",
    "        all_results = json.load(f)\n",
    "        #print(all_results)\n",
    "        for key in all_results.keys():\n",
    "            if \"active_adapters_\" in key:\n",
    "                tmp = all_results[key].split(\".\")\n",
    "                all_results[key] = f\"{tmp[8].split('_')[0]}#{tmp[5]}\"\n",
    "        print(all_results)\n",
    "    with open(f\"./train_outputs/{folder}/all_results.json\", \"w\") as f:\n",
    "        json.dump(all_results, f, sort_keys=True, indent=4)\n",
    "print(NUM_INTERESTING_FILES)"
   ]
  },
  {
   "cell_type": "code",
   "execution_count": 52,
   "metadata": {},
   "outputs": [
    {
     "data": {
      "text/html": [
       "<div>\n",
       "<style scoped>\n",
       "    .dataframe tbody tr th:only-of-type {\n",
       "        vertical-align: middle;\n",
       "    }\n",
       "\n",
       "    .dataframe tbody tr th {\n",
       "        vertical-align: top;\n",
       "    }\n",
       "\n",
       "    .dataframe thead th {\n",
       "        text-align: right;\n",
       "    }\n",
       "</style>\n",
       "<table border=\"1\" class=\"dataframe\">\n",
       "  <thead>\n",
       "    <tr style=\"text-align: right;\">\n",
       "      <th></th>\n",
       "      <th>cola</th>\n",
       "      <th>mnli</th>\n",
       "      <th>mrpc</th>\n",
       "      <th>qnli</th>\n",
       "      <th>qqp</th>\n",
       "      <th>rte</th>\n",
       "      <th>sst2</th>\n",
       "      <th>stsb</th>\n",
       "    </tr>\n",
       "  </thead>\n",
       "  <tbody>\n",
       "    <tr>\n",
       "      <th>cola</th>\n",
       "      <td>NaN</td>\n",
       "      <td>1.0</td>\n",
       "      <td>NaN</td>\n",
       "      <td>NaN</td>\n",
       "      <td>NaN</td>\n",
       "      <td>NaN</td>\n",
       "      <td>NaN</td>\n",
       "      <td>NaN</td>\n",
       "    </tr>\n",
       "    <tr>\n",
       "      <th>mnli</th>\n",
       "      <td>NaN</td>\n",
       "      <td>NaN</td>\n",
       "      <td>NaN</td>\n",
       "      <td>NaN</td>\n",
       "      <td>NaN</td>\n",
       "      <td>NaN</td>\n",
       "      <td>NaN</td>\n",
       "      <td>NaN</td>\n",
       "    </tr>\n",
       "    <tr>\n",
       "      <th>mrpc</th>\n",
       "      <td>NaN</td>\n",
       "      <td>NaN</td>\n",
       "      <td>NaN</td>\n",
       "      <td>NaN</td>\n",
       "      <td>NaN</td>\n",
       "      <td>NaN</td>\n",
       "      <td>NaN</td>\n",
       "      <td>NaN</td>\n",
       "    </tr>\n",
       "    <tr>\n",
       "      <th>qnli</th>\n",
       "      <td>NaN</td>\n",
       "      <td>NaN</td>\n",
       "      <td>NaN</td>\n",
       "      <td>NaN</td>\n",
       "      <td>NaN</td>\n",
       "      <td>NaN</td>\n",
       "      <td>NaN</td>\n",
       "      <td>NaN</td>\n",
       "    </tr>\n",
       "    <tr>\n",
       "      <th>qqp</th>\n",
       "      <td>NaN</td>\n",
       "      <td>NaN</td>\n",
       "      <td>NaN</td>\n",
       "      <td>NaN</td>\n",
       "      <td>NaN</td>\n",
       "      <td>NaN</td>\n",
       "      <td>NaN</td>\n",
       "      <td>NaN</td>\n",
       "    </tr>\n",
       "    <tr>\n",
       "      <th>rte</th>\n",
       "      <td>NaN</td>\n",
       "      <td>NaN</td>\n",
       "      <td>NaN</td>\n",
       "      <td>NaN</td>\n",
       "      <td>NaN</td>\n",
       "      <td>NaN</td>\n",
       "      <td>NaN</td>\n",
       "      <td>NaN</td>\n",
       "    </tr>\n",
       "    <tr>\n",
       "      <th>sst2</th>\n",
       "      <td>NaN</td>\n",
       "      <td>NaN</td>\n",
       "      <td>NaN</td>\n",
       "      <td>NaN</td>\n",
       "      <td>NaN</td>\n",
       "      <td>NaN</td>\n",
       "      <td>NaN</td>\n",
       "      <td>NaN</td>\n",
       "    </tr>\n",
       "    <tr>\n",
       "      <th>stsb</th>\n",
       "      <td>NaN</td>\n",
       "      <td>NaN</td>\n",
       "      <td>NaN</td>\n",
       "      <td>NaN</td>\n",
       "      <td>NaN</td>\n",
       "      <td>NaN</td>\n",
       "      <td>NaN</td>\n",
       "      <td>NaN</td>\n",
       "    </tr>\n",
       "  </tbody>\n",
       "</table>\n",
       "</div>"
      ],
      "text/plain": [
       "      cola  mnli  mrpc  qnli  qqp  rte  sst2  stsb\n",
       "cola   NaN   1.0   NaN   NaN  NaN  NaN   NaN   NaN\n",
       "mnli   NaN   NaN   NaN   NaN  NaN  NaN   NaN   NaN\n",
       "mrpc   NaN   NaN   NaN   NaN  NaN  NaN   NaN   NaN\n",
       "qnli   NaN   NaN   NaN   NaN  NaN  NaN   NaN   NaN\n",
       "qqp    NaN   NaN   NaN   NaN  NaN  NaN   NaN   NaN\n",
       "rte    NaN   NaN   NaN   NaN  NaN  NaN   NaN   NaN\n",
       "sst2   NaN   NaN   NaN   NaN  NaN  NaN   NaN   NaN\n",
       "stsb   NaN   NaN   NaN   NaN  NaN  NaN   NaN   NaN"
      ]
     },
     "execution_count": 52,
     "metadata": {},
     "output_type": "execute_result"
    }
   ],
   "source": [
    "df = pd.DataFrame(columns=TASK_NAMES, index=TASK_NAMES, dtype=float)\n",
    "df.loc[\"cola\", \"mnli\"] = 1\n",
    "df"
   ]
  },
  {
   "cell_type": "code",
   "execution_count": 5,
   "metadata": {},
   "outputs": [
    {
     "ename": "RuntimeError",
     "evalue": "Could not infer dtype of NoneType",
     "output_type": "error",
     "traceback": [
      "\u001b[0;31m---------------------------------------------------------------------------\u001b[0m",
      "\u001b[0;31mRuntimeError\u001b[0m                              Traceback (most recent call last)",
      "Cell \u001b[0;32mIn[5], line 2\u001b[0m\n\u001b[1;32m      1\u001b[0m \u001b[38;5;28;01mimport\u001b[39;00m \u001b[38;5;21;01mtorch\u001b[39;00m\n\u001b[0;32m----> 2\u001b[0m a \u001b[38;5;241m=\u001b[39m \u001b[43mtorch\u001b[49m\u001b[38;5;241;43m.\u001b[39;49m\u001b[43mtensor\u001b[49m\u001b[43m(\u001b[49m\u001b[43m[\u001b[49m\u001b[38;5;28;43;01mNone\u001b[39;49;00m\u001b[43m]\u001b[49m\u001b[43m)\u001b[49m\n\u001b[1;32m      3\u001b[0m a\n",
      "\u001b[0;31mRuntimeError\u001b[0m: Could not infer dtype of NoneType"
     ]
    }
   ],
   "source": [
    "from transformers import get_scheduler\n",
    "import torch\n",
    "optimizer = torch.optim.SGD()\n",
    "scheduler = get_scheduler(\n",
    "    name=\"linear\", \n",
    "    optimizer=optimizer,\n",
    "    num_warmup_steps=training_args.warmup_steps,\n",
    "    num_training_steps=training_args.max_fat_steps\n",
    ")"
   ]
  },
  {
   "cell_type": "code",
   "execution_count": 22,
   "metadata": {},
   "outputs": [
    {
     "data": {
      "text/plain": [
       "tensor([[0.6414, 0.9626],\n",
       "        [0.6874, 0.0178],\n",
       "        [0.5703, 0.3742],\n",
       "        [0.9114, 0.7325],\n",
       "        [0.5870, 0.7662],\n",
       "        [0.0000, 0.0000],\n",
       "        [0.0000, 0.0000],\n",
       "        [0.0000, 0.0000],\n",
       "        [0.0000, 0.0000],\n",
       "        [0.0000, 0.0000]], grad_fn=<CatBackward0>)"
      ]
     },
     "execution_count": 22,
     "metadata": {},
     "output_type": "execute_result"
    }
   ],
   "source": [
    "o = torch.zeros([5, 2], requires_grad=True)\n",
    "b = torch.rand_like(o)\n",
    "a = torch.zeros_like(o, requires_grad=True)\n",
    "b = torch.concat([b, a], dim=0)\n",
    "b"
   ]
  },
  {
   "cell_type": "code",
   "execution_count": 5,
   "metadata": {},
   "outputs": [],
   "source": [
    "import os, json\n",
    "import pandas as pd\n",
    "TASK_NAMES = [\"cola\", \"mnli\", \"mrpc\", \"qnli\", \"qqp\", \"sst2\", \"stsb\"]\n",
    "INTERSTING_K = [1, 5, 10]\n",
    "df_all = {}\n",
    "for k in INTERSTING_K:\n",
    "    df_all[k] = pd.DataFrame(columns=TASK_NAMES, index=TASK_NAMES, dtype=float)\n",
    "    for task_name_1 in TASK_NAMES:\n",
    "        folder_1 = f\"./train_outputs/[WeightLoRA, k={k}] {task_name_1}\"\n",
    "        with open(f\"{folder_1}/all_results.json\", \"r\") as f:\n",
    "            all_results = json.load(f)\n",
    "            active_adapters_1 = []\n",
    "            for key in all_results.keys():\n",
    "                if \"active_adapters_\" in key:\n",
    "                    active_adapters_1.append(all_results[key])\n",
    "        for task_name_2 in TASK_NAMES:\n",
    "            folder_2 = f\"./train_outputs/[WeightLoRA, k={k}] {task_name_2}\"\n",
    "            with open(f\"{folder_2}/all_results.json\", \"r\") as f:\n",
    "                all_results = json.load(f)\n",
    "                active_adapters_2 = []\n",
    "                for key in all_results.keys():\n",
    "                    if \"active_adapters_\" in key:\n",
    "                        active_adapters_2.append(all_results[key])\n",
    "            v = sum(x == y for x, y in zip(active_adapters_1, active_adapters_2))\n",
    "            df_all[k].loc[task_name_1, task_name_2] = float(v) / k\n",
    "            df_all[k].loc[task_name_2, task_name_1] = float(v) / k"
   ]
  },
  {
   "cell_type": "code",
   "execution_count": 8,
   "metadata": {},
   "outputs": [
    {
     "data": {
      "image/png": "[encoded data removed]",
      "text/plain": [
       "<Figure size 3200x1200 with 3 Axes>"
      ]
     },
     "metadata": {},
     "output_type": "display_data"
    }
   ],
   "source": [
    "import seaborn as sns\n",
    "import matplotlib.pyplot as plt\n",
    "# Set up the matplotlib figure\n",
    "plt.rc('axes', titlesize=20, titleweight='bold') #fontsize of the title\n",
    "plt.rc('axes', labelsize=25) #fontsize of the x and y labels\n",
    "plt.rc('xtick', labelsize=25) #fontsize of the x tick labels\n",
    "plt.rc('ytick', labelsize=25) #fontsize of the y tick labels\n",
    "plt.rc('legend', fontsize=15) #fontsize of the legend\n",
    "f, ax = plt.subplots(1, len(INTERSTING_K), figsize=(32, 12))\n",
    "plt.title(\"Weight LoRA analysis\")\n",
    "for i, k in enumerate(INTERSTING_K):\n",
    "    ax[i].set_title(f\"k = {k}\", fontsize=25)\n",
    "    sns.heatmap(df_all[k], ax=ax[i], annot=True, linewidth=.5, \n",
    "                annot_kws={\"fontsize\":20}, cbar=False)\n",
    "plt.tight_layout()\n",
    "plt.savefig(\"zlp.pdf\")\n",
    "plt.show()"
   ]
  },
  {
   "cell_type": "code",
   "execution_count": 36,
   "metadata": {},
   "outputs": [
    {
     "name": "stdout",
     "output_type": "stream",
     "text": [
      "Collecting seaborn\n",
      "  Obtaining dependency information for seaborn from https://files.pythonhosted.org/packages/83/11/00d3c3dfc25ad54e731d91449895a79e4bf2384dc3ac01809010ba88f6d5/seaborn-0.13.2-py3-none-any.whl.metadata\n",
      "  Downloading seaborn-0.13.2-py3-none-any.whl.metadata (5.4 kB)\n",
      "Requirement already satisfied: numpy!=1.24.0,>=1.20 in ./ShkodnikVenv/lib/python3.11/site-packages (from seaborn) (1.26.4)\n",
      "Requirement already satisfied: pandas>=1.2 in ./ShkodnikVenv/lib/python3.11/site-packages (from seaborn) (2.2.2)\n",
      "Requirement already satisfied: matplotlib!=3.6.1,>=3.4 in ./ShkodnikVenv/lib/python3.11/site-packages (from seaborn) (3.9.2)\n",
      "Requirement already satisfied: contourpy>=1.0.1 in ./ShkodnikVenv/lib/python3.11/site-packages (from matplotlib!=3.6.1,>=3.4->seaborn) (1.2.1)\n",
      "Requirement already satisfied: cycler>=0.10 in ./ShkodnikVenv/lib/python3.11/site-packages (from matplotlib!=3.6.1,>=3.4->seaborn) (0.12.1)\n",
      "Requirement already satisfied: fonttools>=4.22.0 in ./ShkodnikVenv/lib/python3.11/site-packages (from matplotlib!=3.6.1,>=3.4->seaborn) (4.53.1)\n",
      "Requirement already satisfied: kiwisolver>=1.3.1 in ./ShkodnikVenv/lib/python3.11/site-packages (from matplotlib!=3.6.1,>=3.4->seaborn) (1.4.5)\n",
      "Requirement already satisfied: packaging>=20.0 in ./ShkodnikVenv/lib/python3.11/site-packages (from matplotlib!=3.6.1,>=3.4->seaborn) (24.1)\n",
      "Requirement already satisfied: pillow>=8 in ./ShkodnikVenv/lib/python3.11/site-packages (from matplotlib!=3.6.1,>=3.4->seaborn) (10.4.0)\n",
      "Requirement already satisfied: pyparsing>=2.3.1 in ./ShkodnikVenv/lib/python3.11/site-packages (from matplotlib!=3.6.1,>=3.4->seaborn) (3.1.3)\n",
      "Requirement already satisfied: python-dateutil>=2.7 in ./ShkodnikVenv/lib/python3.11/site-packages (from matplotlib!=3.6.1,>=3.4->seaborn) (2.9.0.post0)\n",
      "Requirement already satisfied: pytz>=2020.1 in ./ShkodnikVenv/lib/python3.11/site-packages (from pandas>=1.2->seaborn) (2024.1)\n",
      "Requirement already satisfied: tzdata>=2022.7 in ./ShkodnikVenv/lib/python3.11/site-packages (from pandas>=1.2->seaborn) (2024.1)\n",
      "Requirement already satisfied: six>=1.5 in ./ShkodnikVenv/lib/python3.11/site-packages (from python-dateutil>=2.7->matplotlib!=3.6.1,>=3.4->seaborn) (1.16.0)\n",
      "Downloading seaborn-0.13.2-py3-none-any.whl (294 kB)\n",
      "\u001b[2K   \u001b[90m━━━━━━━━━━━━━━━━━━━━━━━━━━━━━━━━━━━━━━━━\u001b[0m \u001b[32m294.9/294.9 kB\u001b[0m \u001b[31m3.3 MB/s\u001b[0m eta \u001b[36m0:00:00\u001b[0ma \u001b[36m0:00:01\u001b[0m\n",
      "\u001b[?25hInstalling collected packages: seaborn\n",
      "Successfully installed seaborn-0.13.2\n",
      "\n",
      "\u001b[1m[\u001b[0m\u001b[34;49mnotice\u001b[0m\u001b[1;39;49m]\u001b[0m\u001b[39;49m A new release of pip is available: \u001b[0m\u001b[31;49m23.2.1\u001b[0m\u001b[39;49m -> \u001b[0m\u001b[32;49m24.3.1\u001b[0m\n",
      "\u001b[1m[\u001b[0m\u001b[34;49mnotice\u001b[0m\u001b[1;39;49m]\u001b[0m\u001b[39;49m To update, run: \u001b[0m\u001b[32;49mpip install --upgrade pip\u001b[0m\n"
     ]
    }
   ],
   "source": [
    "!pip install seaborn"
   ]
  },
  {
   "cell_type": "code",
   "execution_count": 25,
   "metadata": {},
   "outputs": [],
   "source": [
    "from peft import LoraConfig, WeightLoraConfig\n",
    "target_modules=['up_proj', 'down_proj', 'gate_proj', \n",
    "                    'k_proj', 'q_proj', 'v_proj', 'o_proj']\n",
    "peft_config = WeightLoraConfig(\n",
    "    r=8,\n",
    "    lora_alpha=32,\n",
    "    lora_dropout=0.05,\n",
    "    bias=\"none\",\n",
    "    task_type=\"CAUSAL_LM\",\n",
    "    target_modules=target_modules\n",
    ")"
   ]
  },
  {
   "cell_type": "code",
   "execution_count": 26,
   "metadata": {},
   "outputs": [
    {
     "data": {
      "text/plain": [
       "'WeightLoraConfig'"
      ]
     },
     "execution_count": 26,
     "metadata": {},
     "output_type": "execute_result"
    }
   ],
   "source": [
    "peft_config.__class__.__name__"
   ]
  },
  {
   "cell_type": "code",
   "execution_count": 2,
   "metadata": {},
   "outputs": [],
   "source": [
    "@dataclass\n",
    "class ModelArguments:\n",
    "    #model_name: str = \"/media/ssd-3t/akazakov/llama31instr/models--meta-llama--Meta-Llama-3.1-8B-Instruct/snapshots/07eb05b21d191a58c577b4a45982fe0c049d0693\"\n",
    "    # model_name: str = \"unsloth/Meta-Llama-3.1-8B\" \n",
    "    #model_name: str = \"unsloth/Meta-Llama-3.1-8B-bnb-4bit\"\n",
    "    model_name: str = \"FacebookAI/roberta-base\"\n",
    "    max_seq_length: int = 1000\n",
    "    dtype: str = None\n",
    "    load_in_4bit: bool = False\n",
    "\n",
    "@dataclass\n",
    "class TrainingArguments(TrainingArguments):\n",
    "    per_device_train_batch_size: int = 16\n",
    "    gradient_accumulation_steps: int = 4\n",
    "    warmup_steps: int = 5\n",
    "    num_train_epochs: int = 5\n",
    "    learning_rate: float = 1e-10\n",
    "    logging_steps: int = 1\n",
    "    optim: str = \"adamw_hf\"\n",
    "    weight_decay: float = 0.01\n",
    "    lr_scheduler_type: str = \"linear\"\n",
    "    seed: int = 18\n",
    "    output_dir: str = \"train_outputs\"\n",
    "    # output_dir: str = None\n",
    "    sign_step: int = 5000\n",
    "    max_grad_norm: float = 1.0\n",
    "    max_steps: int = 2 # overrides num_train_epochs\n",
    "    report_to: str = \"none\" # \"none\" or \"wandb\"\n",
    " \n",
    "@dataclass\n",
    "class DataArguments:\n",
    "    train_file: str = 'data/train_ft_short_system.jsonl'"
   ]
  },
  {
   "cell_type": "code",
   "execution_count": 3,
   "metadata": {},
   "outputs": [],
   "source": [
    "import pipelines.adapters as adapters\n",
    "import pipelines.optimizers as optimizers\n",
    "import pipelines.utils as utils\n",
    "%load_ext autoreload\n",
    "%autoreload 2"
   ]
  },
  {
   "cell_type": "code",
   "execution_count": 4,
   "metadata": {},
   "outputs": [
    {
     "name": "stdout",
     "output_type": "stream",
     "text": [
      "There are 8 GPU(s) available.\n",
      "We will use the GPU: NVIDIA A100-PCIE-40GB\n"
     ]
    }
   ],
   "source": [
    "model_args = ModelArguments\n",
    "training_args = TrainingArguments\n",
    "utils.set_seed(18)\n",
    "device = utils.set_device(3)"
   ]
  },
  {
   "cell_type": "code",
   "execution_count": 5,
   "metadata": {},
   "outputs": [
    {
     "name": "stderr",
     "output_type": "stream",
     "text": [
      "If you want to use `RobertaLMHeadModel` as a standalone, add `is_decoder=True.`\n",
      "/home/shkodnik/Sber_Lora/ShkodnikVenv/lib/python3.11/site-packages/transformers/tokenization_utils_base.py:1601: FutureWarning: `clean_up_tokenization_spaces` was not set. It will be set to `True` by default. This behavior will be depracted in transformers v4.45, and will be then set to `False` by default. For more details check this issue: https://github.com/huggingface/transformers/issues/31884\n",
      "  warnings.warn(\n"
     ]
    }
   ],
   "source": [
    "from transformers import AutoTokenizer, AutoModelForCausalLM\n",
    "model = AutoModelForCausalLM.from_pretrained(\n",
    "    model_args.model_name,\n",
    "    load_in_8bit=model_args.load_in_4bit,\n",
    "    device_map=device\n",
    ")\n",
    "tokenizer = AutoTokenizer.from_pretrained(model_args.model_name)\n",
    "# print(model)"
   ]
  },
  {
   "cell_type": "code",
   "execution_count": 6,
   "metadata": {},
   "outputs": [
    {
     "name": "stdout",
     "output_type": "stream",
     "text": [
      "trainable params: 442,368 || all params: 125,139,801 || trainable%: 0.3535\n",
      "PeftModel(\n",
      "  (base_model): LoraModel(\n",
      "    (model): RobertaForCausalLM(\n",
      "      (roberta): RobertaModel(\n",
      "        (embeddings): RobertaEmbeddings(\n",
      "          (word_embeddings): Embedding(50265, 768, padding_idx=1)\n",
      "          (position_embeddings): Embedding(514, 768, padding_idx=1)\n",
      "          (token_type_embeddings): Embedding(1, 768)\n",
      "          (LayerNorm): LayerNorm((768,), eps=1e-05, elementwise_affine=True)\n",
      "          (dropout): Dropout(p=0.1, inplace=False)\n",
      "        )\n",
      "        (encoder): RobertaEncoder(\n",
      "          (layer): ModuleList(\n",
      "            (0-11): 12 x RobertaLayer(\n",
      "              (attention): RobertaAttention(\n",
      "                (self): RobertaSelfAttention(\n",
      "                  (query): lora.Linear(\n",
      "                    (base_layer): Linear(in_features=768, out_features=768, bias=True)\n",
      "                    (lora_dropout): ModuleDict(\n",
      "                      (default): Identity()\n",
      "                    )\n",
      "                    (lora_A): ModuleDict(\n",
      "                      (default): Linear(in_features=768, out_features=8, bias=False)\n",
      "                    )\n",
      "                    (lora_B): ModuleDict(\n",
      "                      (default): Linear(in_features=8, out_features=768, bias=False)\n",
      "                    )\n",
      "                    (lora_embedding_A): ParameterDict()\n",
      "                    (lora_embedding_B): ParameterDict()\n",
      "                    (lora_magnitude_vector): ModuleDict()\n",
      "                  )\n",
      "                  (key): lora.Linear(\n",
      "                    (base_layer): Linear(in_features=768, out_features=768, bias=True)\n",
      "                    (lora_dropout): ModuleDict(\n",
      "                      (default): Identity()\n",
      "                    )\n",
      "                    (lora_A): ModuleDict(\n",
      "                      (default): Linear(in_features=768, out_features=8, bias=False)\n",
      "                    )\n",
      "                    (lora_B): ModuleDict(\n",
      "                      (default): Linear(in_features=8, out_features=768, bias=False)\n",
      "                    )\n",
      "                    (lora_embedding_A): ParameterDict()\n",
      "                    (lora_embedding_B): ParameterDict()\n",
      "                    (lora_magnitude_vector): ModuleDict()\n",
      "                  )\n",
      "                  (value): lora.Linear(\n",
      "                    (base_layer): Linear(in_features=768, out_features=768, bias=True)\n",
      "                    (lora_dropout): ModuleDict(\n",
      "                      (default): Identity()\n",
      "                    )\n",
      "                    (lora_A): ModuleDict(\n",
      "                      (default): Linear(in_features=768, out_features=8, bias=False)\n",
      "                    )\n",
      "                    (lora_B): ModuleDict(\n",
      "                      (default): Linear(in_features=8, out_features=768, bias=False)\n",
      "                    )\n",
      "                    (lora_embedding_A): ParameterDict()\n",
      "                    (lora_embedding_B): ParameterDict()\n",
      "                    (lora_magnitude_vector): ModuleDict()\n",
      "                  )\n",
      "                  (dropout): Dropout(p=0.1, inplace=False)\n",
      "                )\n",
      "                (output): RobertaSelfOutput(\n",
      "                  (dense): Linear(in_features=768, out_features=768, bias=True)\n",
      "                  (LayerNorm): LayerNorm((768,), eps=1e-05, elementwise_affine=True)\n",
      "                  (dropout): Dropout(p=0.1, inplace=False)\n",
      "                )\n",
      "              )\n",
      "              (intermediate): RobertaIntermediate(\n",
      "                (dense): Linear(in_features=768, out_features=3072, bias=True)\n",
      "                (intermediate_act_fn): GELUActivation()\n",
      "              )\n",
      "              (output): RobertaOutput(\n",
      "                (dense): Linear(in_features=3072, out_features=768, bias=True)\n",
      "                (LayerNorm): LayerNorm((768,), eps=1e-05, elementwise_affine=True)\n",
      "                (dropout): Dropout(p=0.1, inplace=False)\n",
      "              )\n",
      "            )\n",
      "          )\n",
      "        )\n",
      "      )\n",
      "      (lm_head): RobertaLMHead(\n",
      "        (dense): Linear(in_features=768, out_features=768, bias=True)\n",
      "        (layer_norm): LayerNorm((768,), eps=1e-05, elementwise_affine=True)\n",
      "        (decoder): Linear(in_features=768, out_features=50265, bias=True)\n",
      "      )\n",
      "    )\n",
      "  )\n",
      ")\n"
     ]
    }
   ],
   "source": [
    "from peft import WeightLoraConfig, LoraConfig, LoKrConfig\n",
    "from peft import LoKrModel, LoraModel, WeightLoraModel\n",
    "from peft import get_peft_model\n",
    "from peft import PeftConfig, PeftType\n",
    "target_modules = [\"query\", \"key\", \"value\"]\n",
    "weight_lora_config = LoraConfig(\n",
    "    r=8,\n",
    "    lora_alpha=8,\n",
    "    target_modules=target_modules,\n",
    "    # rank_dropout=0.0,\n",
    "    # module_dropout=0.0,\n",
    ")\n",
    "# model = WeightLoraModel(model, weight_lora_config, adapter_name=\"default\")\n",
    "# model = LoraModel(model, weight_lora_config, adapter_name=\"default\")\n",
    "model = get_peft_model(model, weight_lora_config)\n",
    "model.print_trainable_parameters()\n",
    "print(model)"
   ]
  },
  {
   "cell_type": "code",
   "execution_count": 7,
   "metadata": {},
   "outputs": [
    {
     "name": "stderr",
     "output_type": "stream",
     "text": [
      "Map: 100%|██████████| 34/34 [00:00<00:00, 1837.36 examples/s]\n",
      "Map: 100%|██████████| 311/311 [00:00<00:00, 10784.86 examples/s]"
     ]
    },
    {
     "name": "stdout",
     "output_type": "stream",
     "text": [
      "DatasetDict({\n",
      "    test: Dataset({\n",
      "        features: ['text', 'input_ids', 'attention_mask', 'special_tokens_mask'],\n",
      "        num_rows: 34\n",
      "    })\n",
      "    train: Dataset({\n",
      "        features: ['text', 'input_ids', 'attention_mask', 'special_tokens_mask'],\n",
      "        num_rows: 311\n",
      "    })\n",
      "})\n"
     ]
    },
    {
     "name": "stderr",
     "output_type": "stream",
     "text": [
      "\n"
     ]
    }
   ],
   "source": [
    "import datasets\n",
    "dataset_name = 'cais/mmlu'\n",
    "dataset_config_name = 'philosophy'\n",
    "dataset = datasets.load_dataset(dataset_name, dataset_config_name)\n",
    "train = utils.make_mlm_dataset_form_mmlu(dataset['test'])\n",
    "test = utils.make_mlm_dataset_form_mmlu(dataset['validation'])\n",
    "dataset = datasets.DatasetDict({\"test\" : test, \"train\" : train})\n",
    "def tokenize_function(examples):\n",
    "    return tokenizer(examples['text'], return_special_tokens_mask=True)\n",
    "tokenized_dataset = dataset.map(\n",
    "    tokenize_function,\n",
    "    batched=True\n",
    ")\n",
    "print(tokenized_dataset)"
   ]
  },
  {
   "cell_type": "code",
   "execution_count": 50,
   "metadata": {},
   "outputs": [],
   "source": [
    "# for name, param in model.named_parameters():\n",
    "#     if \"lm_head\" in name or \"embed\" in name:\n",
    "#         param.requires_grad = True"
   ]
  },
  {
   "cell_type": "code",
   "execution_count": 14,
   "metadata": {},
   "outputs": [
    {
     "data": {
      "text/plain": [
       "<generator object Module.named_parameters at 0x7f8760328140>"
      ]
     },
     "execution_count": 14,
     "metadata": {},
     "output_type": "execute_result"
    }
   ],
   "source": [
    "model.named_parameters()"
   ]
  },
  {
   "cell_type": "code",
   "execution_count": 15,
   "metadata": {},
   "outputs": [
    {
     "name": "stderr",
     "output_type": "stream",
     "text": [
      "[autoreload of pipelines.optimizers failed: Traceback (most recent call last):\n",
      "  File \"/home/shkodnik/Sber_Lora/ShkodnikVenv/lib/python3.11/site-packages/IPython/extensions/autoreload.py\", line 276, in check\n",
      "    superreload(m, reload, self.old_objects)\n",
      "  File \"/home/shkodnik/Sber_Lora/ShkodnikVenv/lib/python3.11/site-packages/IPython/extensions/autoreload.py\", line 500, in superreload\n",
      "    update_generic(old_obj, new_obj)\n",
      "  File \"/home/shkodnik/Sber_Lora/ShkodnikVenv/lib/python3.11/site-packages/IPython/extensions/autoreload.py\", line 397, in update_generic\n",
      "    update(a, b)\n",
      "  File \"/home/shkodnik/Sber_Lora/ShkodnikVenv/lib/python3.11/site-packages/IPython/extensions/autoreload.py\", line 349, in update_class\n",
      "    if update_generic(old_obj, new_obj):\n",
      "       ^^^^^^^^^^^^^^^^^^^^^^^^^^^^^^^^\n",
      "  File \"/home/shkodnik/Sber_Lora/ShkodnikVenv/lib/python3.11/site-packages/IPython/extensions/autoreload.py\", line 397, in update_generic\n",
      "    update(a, b)\n",
      "  File \"/home/shkodnik/Sber_Lora/ShkodnikVenv/lib/python3.11/site-packages/IPython/extensions/autoreload.py\", line 309, in update_function\n",
      "    setattr(old, name, getattr(new, name))\n",
      "ValueError: step() requires a code object with 1 free vars, not 2\n",
      "]\n",
      "/home/shkodnik/Sber_Lora/pipelines/optimizers.py:164: FutureWarning: This implementation of AdamW is deprecated and will be removed in a future version. Use the PyTorch implementation torch.optim.AdamW instead, or set `no_deprecation_warning=True` to disable this warning\n",
      "  warnings.warn(\n"
     ]
    }
   ],
   "source": [
    "from transformers import get_scheduler\n",
    "optimizer = optimizers.AdamW(model.parameters(), \n",
    "                                 lr=training_args.learning_rate,\n",
    "                                 weight_decay=training_args.weight_decay)\n",
    "scheduler = get_scheduler(name=training_args.lr_scheduler_type, \n",
    "                            optimizer=optimizer, \n",
    "                            num_warmup_steps=training_args.warmup_steps,\n",
    "                            num_training_steps=training_args.max_steps)"
   ]
  },
  {
   "cell_type": "code",
   "execution_count": 16,
   "metadata": {},
   "outputs": [
    {
     "name": "stderr",
     "output_type": "stream",
     "text": [
      "max_steps is given, it will override any value given in num_train_epochs\n"
     ]
    },
    {
     "name": "stdout",
     "output_type": "stream",
     "text": [
      "274\n"
     ]
    },
    {
     "data": {
      "text/html": [
       "\n",
       "    <div>\n",
       "      \n",
       "      <progress value='10' max='10' style='width:300px; height:20px; vertical-align: middle;'></progress>\n",
       "      [10/10 00:12, Epoch 2/2]\n",
       "    </div>\n",
       "    <table border=\"1\" class=\"dataframe\">\n",
       "  <thead>\n",
       " <tr style=\"text-align: left;\">\n",
       "      <th>Step</th>\n",
       "      <th>Training Loss</th>\n",
       "    </tr>\n",
       "  </thead>\n",
       "  <tbody>\n",
       "    <tr>\n",
       "      <td>1</td>\n",
       "      <td>10.825100</td>\n",
       "    </tr>\n",
       "    <tr>\n",
       "      <td>2</td>\n",
       "      <td>10.825100</td>\n",
       "    </tr>\n",
       "    <tr>\n",
       "      <td>3</td>\n",
       "      <td>10.825100</td>\n",
       "    </tr>\n",
       "    <tr>\n",
       "      <td>4</td>\n",
       "      <td>10.825100</td>\n",
       "    </tr>\n",
       "    <tr>\n",
       "      <td>5</td>\n",
       "      <td>10.825100</td>\n",
       "    </tr>\n",
       "    <tr>\n",
       "      <td>6</td>\n",
       "      <td>10.825100</td>\n",
       "    </tr>\n",
       "    <tr>\n",
       "      <td>7</td>\n",
       "      <td>10.825100</td>\n",
       "    </tr>\n",
       "    <tr>\n",
       "      <td>8</td>\n",
       "      <td>10.825100</td>\n",
       "    </tr>\n",
       "    <tr>\n",
       "      <td>9</td>\n",
       "      <td>10.825100</td>\n",
       "    </tr>\n",
       "    <tr>\n",
       "      <td>10</td>\n",
       "      <td>10.825100</td>\n",
       "    </tr>\n",
       "  </tbody>\n",
       "</table><p>"
      ],
      "text/plain": [
       "<IPython.core.display.HTML object>"
      ]
     },
     "metadata": {},
     "output_type": "display_data"
    },
    {
     "name": "stdout",
     "output_type": "stream",
     "text": [
      "274\n",
      "274\n",
      "274\n",
      "274\n",
      "274\n",
      "274\n",
      "274\n",
      "274\n",
      "274\n"
     ]
    },
    {
     "name": "stderr",
     "output_type": "stream",
     "text": [
      "/home/shkodnik/Sber_Lora/ShkodnikVenv/lib/python3.11/site-packages/peft/utils/other.py:629: UserWarning: Unable to fetch remote file due to the following error (ReadTimeoutError(\"HTTPSConnectionPool(host='huggingface.co', port=443): Read timed out. (read timeout=10)\"), '(Request ID: b6dd6655-0be4-421f-963d-54d210a62472)') - silently ignoring the lookup for the file config.json in FacebookAI/roberta-base.\n",
      "  warnings.warn(\n",
      "/home/shkodnik/Sber_Lora/ShkodnikVenv/lib/python3.11/site-packages/peft/utils/save_and_load.py:246: UserWarning: Could not find a config file in FacebookAI/roberta-base - will assume that the vocabulary was not modified.\n",
      "  warnings.warn(\n"
     ]
    },
    {
     "ename": "",
     "evalue": "",
     "output_type": "error",
     "traceback": [
      "\u001b[1;31mПри выполнении кода в текущей ячейке или предыдущей ячейке ядро аварийно завершило работу. \n",
      "\u001b[1;31mПроверьте код в ячейках, чтобы определить возможную причину сбоя. \n",
      "\u001b[1;31mЩелкните <a href='https://aka.ms/vscodeJupyterKernelCrash'>здесь</a>, чтобы получить дополнительные сведения. \n",
      "\u001b[1;31mПодробнее см. в <a href='command:jupyter.viewOutput'>журнале Jupyter</a>."
     ]
    }
   ],
   "source": [
    "import transformers\n",
    "run_name = \"test\"\n",
    "trainer = transformers.Trainer(\n",
    "    model=model,\n",
    "    tokenizer=tokenizer,\n",
    "    #train_dataset=dataset,\n",
    "    train_dataset=tokenized_dataset['train'],\n",
    "    eval_dataset=tokenized_dataset['test'],\n",
    "    args=TrainingArguments(\n",
    "        max_steps=10,\n",
    "        # learning_rate=1e-3, \n",
    "        # fp16=True, \n",
    "        output_dir=training_args.output_dir, \n",
    "        use_cpu=False, \n",
    "        save_safetensors=False,\n",
    "        # report_to=report_to,\n",
    "        report_to=\"none\",\n",
    "        logging_steps=1,\n",
    "        # run_name=f\"prob={int(prob*100)}/100_k={k}\",\n",
    "        run_name=run_name,\n",
    "        # run_name=\"test\",\n",
    "    ),\n",
    "    data_collator=transformers.DataCollatorForLanguageModeling(tokenizer, mlm_probability=0.15),\n",
    "    optimizers=[optimizer, scheduler]\n",
    ")\n",
    "\n",
    "trainer_stats = trainer.train()"
   ]
  },
  {
   "cell_type": "code",
   "execution_count": 17,
   "metadata": {},
   "outputs": [
    {
     "name": "stdout",
     "output_type": "stream",
     "text": [
      "\u001b[0;31mInit signature:\u001b[0m\n",
      "\u001b[0mSFTTrainer\u001b[0m\u001b[0;34m(\u001b[0m\u001b[0;34m\u001b[0m\n",
      "\u001b[0;34m\u001b[0m    \u001b[0mmodel\u001b[0m\u001b[0;34m:\u001b[0m \u001b[0mUnion\u001b[0m\u001b[0;34m[\u001b[0m\u001b[0mtransformers\u001b[0m\u001b[0;34m.\u001b[0m\u001b[0mmodeling_utils\u001b[0m\u001b[0;34m.\u001b[0m\u001b[0mPreTrainedModel\u001b[0m\u001b[0;34m,\u001b[0m \u001b[0mtorch\u001b[0m\u001b[0;34m.\u001b[0m\u001b[0mnn\u001b[0m\u001b[0;34m.\u001b[0m\u001b[0mmodules\u001b[0m\u001b[0;34m.\u001b[0m\u001b[0mmodule\u001b[0m\u001b[0;34m.\u001b[0m\u001b[0mModule\u001b[0m\u001b[0;34m,\u001b[0m \u001b[0mstr\u001b[0m\u001b[0;34m,\u001b[0m \u001b[0mNoneType\u001b[0m\u001b[0;34m]\u001b[0m \u001b[0;34m=\u001b[0m \u001b[0;32mNone\u001b[0m\u001b[0;34m,\u001b[0m\u001b[0;34m\u001b[0m\n",
      "\u001b[0;34m\u001b[0m    \u001b[0margs\u001b[0m\u001b[0;34m:\u001b[0m \u001b[0mOptional\u001b[0m\u001b[0;34m[\u001b[0m\u001b[0mtransformers\u001b[0m\u001b[0;34m.\u001b[0m\u001b[0mtraining_args\u001b[0m\u001b[0;34m.\u001b[0m\u001b[0mTrainingArguments\u001b[0m\u001b[0;34m]\u001b[0m \u001b[0;34m=\u001b[0m \u001b[0;32mNone\u001b[0m\u001b[0;34m,\u001b[0m\u001b[0;34m\u001b[0m\n",
      "\u001b[0;34m\u001b[0m    \u001b[0mdata_collator\u001b[0m\u001b[0;34m:\u001b[0m \u001b[0mOptional\u001b[0m\u001b[0;34m[\u001b[0m\u001b[0mtransformers\u001b[0m\u001b[0;34m.\u001b[0m\u001b[0mdata\u001b[0m\u001b[0;34m.\u001b[0m\u001b[0mdata_collator\u001b[0m\u001b[0;34m.\u001b[0m\u001b[0mDataCollator\u001b[0m\u001b[0;34m]\u001b[0m \u001b[0;34m=\u001b[0m \u001b[0;32mNone\u001b[0m\u001b[0;34m,\u001b[0m\u001b[0;34m\u001b[0m\n",
      "\u001b[0;34m\u001b[0m    \u001b[0mtrain_dataset\u001b[0m\u001b[0;34m:\u001b[0m \u001b[0mOptional\u001b[0m\u001b[0;34m[\u001b[0m\u001b[0mdatasets\u001b[0m\u001b[0;34m.\u001b[0m\u001b[0marrow_dataset\u001b[0m\u001b[0;34m.\u001b[0m\u001b[0mDataset\u001b[0m\u001b[0;34m]\u001b[0m \u001b[0;34m=\u001b[0m \u001b[0;32mNone\u001b[0m\u001b[0;34m,\u001b[0m\u001b[0;34m\u001b[0m\n",
      "\u001b[0;34m\u001b[0m    \u001b[0meval_dataset\u001b[0m\u001b[0;34m:\u001b[0m \u001b[0mUnion\u001b[0m\u001b[0;34m[\u001b[0m\u001b[0mdatasets\u001b[0m\u001b[0;34m.\u001b[0m\u001b[0marrow_dataset\u001b[0m\u001b[0;34m.\u001b[0m\u001b[0mDataset\u001b[0m\u001b[0;34m,\u001b[0m \u001b[0mDict\u001b[0m\u001b[0;34m[\u001b[0m\u001b[0mstr\u001b[0m\u001b[0;34m,\u001b[0m \u001b[0mdatasets\u001b[0m\u001b[0;34m.\u001b[0m\u001b[0marrow_dataset\u001b[0m\u001b[0;34m.\u001b[0m\u001b[0mDataset\u001b[0m\u001b[0;34m]\u001b[0m\u001b[0;34m,\u001b[0m \u001b[0mNoneType\u001b[0m\u001b[0;34m]\u001b[0m \u001b[0;34m=\u001b[0m \u001b[0;32mNone\u001b[0m\u001b[0;34m,\u001b[0m\u001b[0;34m\u001b[0m\n",
      "\u001b[0;34m\u001b[0m    \u001b[0mtokenizer\u001b[0m\u001b[0;34m:\u001b[0m \u001b[0mOptional\u001b[0m\u001b[0;34m[\u001b[0m\u001b[0mtransformers\u001b[0m\u001b[0;34m.\u001b[0m\u001b[0mtokenization_utils_base\u001b[0m\u001b[0;34m.\u001b[0m\u001b[0mPreTrainedTokenizerBase\u001b[0m\u001b[0;34m]\u001b[0m \u001b[0;34m=\u001b[0m \u001b[0;32mNone\u001b[0m\u001b[0;34m,\u001b[0m\u001b[0;34m\u001b[0m\n",
      "\u001b[0;34m\u001b[0m    \u001b[0mmodel_init\u001b[0m\u001b[0;34m:\u001b[0m \u001b[0mOptional\u001b[0m\u001b[0;34m[\u001b[0m\u001b[0mCallable\u001b[0m\u001b[0;34m[\u001b[0m\u001b[0;34m[\u001b[0m\u001b[0;34m]\u001b[0m\u001b[0;34m,\u001b[0m \u001b[0mtransformers\u001b[0m\u001b[0;34m.\u001b[0m\u001b[0mmodeling_utils\u001b[0m\u001b[0;34m.\u001b[0m\u001b[0mPreTrainedModel\u001b[0m\u001b[0;34m]\u001b[0m\u001b[0;34m]\u001b[0m \u001b[0;34m=\u001b[0m \u001b[0;32mNone\u001b[0m\u001b[0;34m,\u001b[0m\u001b[0;34m\u001b[0m\n",
      "\u001b[0;34m\u001b[0m    \u001b[0mcompute_metrics\u001b[0m\u001b[0;34m:\u001b[0m \u001b[0mOptional\u001b[0m\u001b[0;34m[\u001b[0m\u001b[0mCallable\u001b[0m\u001b[0;34m[\u001b[0m\u001b[0;34m[\u001b[0m\u001b[0mtransformers\u001b[0m\u001b[0;34m.\u001b[0m\u001b[0mtrainer_utils\u001b[0m\u001b[0;34m.\u001b[0m\u001b[0mEvalPrediction\u001b[0m\u001b[0;34m]\u001b[0m\u001b[0;34m,\u001b[0m \u001b[0mDict\u001b[0m\u001b[0;34m]\u001b[0m\u001b[0;34m]\u001b[0m \u001b[0;34m=\u001b[0m \u001b[0;32mNone\u001b[0m\u001b[0;34m,\u001b[0m\u001b[0;34m\u001b[0m\n",
      "\u001b[0;34m\u001b[0m    \u001b[0mcallbacks\u001b[0m\u001b[0;34m:\u001b[0m \u001b[0mOptional\u001b[0m\u001b[0;34m[\u001b[0m\u001b[0mList\u001b[0m\u001b[0;34m[\u001b[0m\u001b[0mtransformers\u001b[0m\u001b[0;34m.\u001b[0m\u001b[0mtrainer_callback\u001b[0m\u001b[0;34m.\u001b[0m\u001b[0mTrainerCallback\u001b[0m\u001b[0;34m]\u001b[0m\u001b[0;34m]\u001b[0m \u001b[0;34m=\u001b[0m \u001b[0;32mNone\u001b[0m\u001b[0;34m,\u001b[0m\u001b[0;34m\u001b[0m\n",
      "\u001b[0;34m\u001b[0m    \u001b[0moptimizers\u001b[0m\u001b[0;34m:\u001b[0m \u001b[0mTuple\u001b[0m\u001b[0;34m[\u001b[0m\u001b[0mtorch\u001b[0m\u001b[0;34m.\u001b[0m\u001b[0moptim\u001b[0m\u001b[0;34m.\u001b[0m\u001b[0moptimizer\u001b[0m\u001b[0;34m.\u001b[0m\u001b[0mOptimizer\u001b[0m\u001b[0;34m,\u001b[0m \u001b[0mtorch\u001b[0m\u001b[0;34m.\u001b[0m\u001b[0moptim\u001b[0m\u001b[0;34m.\u001b[0m\u001b[0mlr_scheduler\u001b[0m\u001b[0;34m.\u001b[0m\u001b[0mLambdaLR\u001b[0m\u001b[0;34m]\u001b[0m \u001b[0;34m=\u001b[0m \u001b[0;34m(\u001b[0m\u001b[0;32mNone\u001b[0m\u001b[0;34m,\u001b[0m \u001b[0;32mNone\u001b[0m\u001b[0;34m)\u001b[0m\u001b[0;34m,\u001b[0m\u001b[0;34m\u001b[0m\n",
      "\u001b[0;34m\u001b[0m    \u001b[0mpreprocess_logits_for_metrics\u001b[0m\u001b[0;34m:\u001b[0m \u001b[0mOptional\u001b[0m\u001b[0;34m[\u001b[0m\u001b[0mCallable\u001b[0m\u001b[0;34m[\u001b[0m\u001b[0;34m[\u001b[0m\u001b[0mtorch\u001b[0m\u001b[0;34m.\u001b[0m\u001b[0mTensor\u001b[0m\u001b[0;34m,\u001b[0m \u001b[0mtorch\u001b[0m\u001b[0;34m.\u001b[0m\u001b[0mTensor\u001b[0m\u001b[0;34m]\u001b[0m\u001b[0;34m,\u001b[0m \u001b[0mtorch\u001b[0m\u001b[0;34m.\u001b[0m\u001b[0mTensor\u001b[0m\u001b[0;34m]\u001b[0m\u001b[0;34m]\u001b[0m \u001b[0;34m=\u001b[0m \u001b[0;32mNone\u001b[0m\u001b[0;34m,\u001b[0m\u001b[0;34m\u001b[0m\n",
      "\u001b[0;34m\u001b[0m    \u001b[0mpeft_config\u001b[0m\u001b[0;34m:\u001b[0m \u001b[0mOptional\u001b[0m\u001b[0;34m[\u001b[0m\u001b[0mForwardRef\u001b[0m\u001b[0;34m(\u001b[0m\u001b[0;34m'PeftConfig'\u001b[0m\u001b[0;34m)\u001b[0m\u001b[0;34m]\u001b[0m \u001b[0;34m=\u001b[0m \u001b[0;32mNone\u001b[0m\u001b[0;34m,\u001b[0m\u001b[0;34m\u001b[0m\n",
      "\u001b[0;34m\u001b[0m    \u001b[0mdataset_text_field\u001b[0m\u001b[0;34m:\u001b[0m \u001b[0mOptional\u001b[0m\u001b[0;34m[\u001b[0m\u001b[0mstr\u001b[0m\u001b[0;34m]\u001b[0m \u001b[0;34m=\u001b[0m \u001b[0;32mNone\u001b[0m\u001b[0;34m,\u001b[0m\u001b[0;34m\u001b[0m\n",
      "\u001b[0;34m\u001b[0m    \u001b[0mpacking\u001b[0m\u001b[0;34m:\u001b[0m \u001b[0mOptional\u001b[0m\u001b[0;34m[\u001b[0m\u001b[0mbool\u001b[0m\u001b[0;34m]\u001b[0m \u001b[0;34m=\u001b[0m \u001b[0;32mFalse\u001b[0m\u001b[0;34m,\u001b[0m\u001b[0;34m\u001b[0m\n",
      "\u001b[0;34m\u001b[0m    \u001b[0mformatting_func\u001b[0m\u001b[0;34m:\u001b[0m \u001b[0mOptional\u001b[0m\u001b[0;34m[\u001b[0m\u001b[0mCallable\u001b[0m\u001b[0;34m]\u001b[0m \u001b[0;34m=\u001b[0m \u001b[0;32mNone\u001b[0m\u001b[0;34m,\u001b[0m\u001b[0;34m\u001b[0m\n",
      "\u001b[0;34m\u001b[0m    \u001b[0mmax_seq_length\u001b[0m\u001b[0;34m:\u001b[0m \u001b[0mOptional\u001b[0m\u001b[0;34m[\u001b[0m\u001b[0mint\u001b[0m\u001b[0;34m]\u001b[0m \u001b[0;34m=\u001b[0m \u001b[0;32mNone\u001b[0m\u001b[0;34m,\u001b[0m\u001b[0;34m\u001b[0m\n",
      "\u001b[0;34m\u001b[0m    \u001b[0minfinite\u001b[0m\u001b[0;34m:\u001b[0m \u001b[0mOptional\u001b[0m\u001b[0;34m[\u001b[0m\u001b[0mbool\u001b[0m\u001b[0;34m]\u001b[0m \u001b[0;34m=\u001b[0m \u001b[0;32mNone\u001b[0m\u001b[0;34m,\u001b[0m\u001b[0;34m\u001b[0m\n",
      "\u001b[0;34m\u001b[0m    \u001b[0mnum_of_sequences\u001b[0m\u001b[0;34m:\u001b[0m \u001b[0mOptional\u001b[0m\u001b[0;34m[\u001b[0m\u001b[0mint\u001b[0m\u001b[0;34m]\u001b[0m \u001b[0;34m=\u001b[0m \u001b[0;36m1024\u001b[0m\u001b[0;34m,\u001b[0m\u001b[0;34m\u001b[0m\n",
      "\u001b[0;34m\u001b[0m    \u001b[0mchars_per_token\u001b[0m\u001b[0;34m:\u001b[0m \u001b[0mOptional\u001b[0m\u001b[0;34m[\u001b[0m\u001b[0mfloat\u001b[0m\u001b[0;34m]\u001b[0m \u001b[0;34m=\u001b[0m \u001b[0;36m3.6\u001b[0m\u001b[0;34m,\u001b[0m\u001b[0;34m\u001b[0m\n",
      "\u001b[0;34m\u001b[0m    \u001b[0mdataset_num_proc\u001b[0m\u001b[0;34m:\u001b[0m \u001b[0mOptional\u001b[0m\u001b[0;34m[\u001b[0m\u001b[0mint\u001b[0m\u001b[0;34m]\u001b[0m \u001b[0;34m=\u001b[0m \u001b[0;32mNone\u001b[0m\u001b[0;34m,\u001b[0m\u001b[0;34m\u001b[0m\n",
      "\u001b[0;34m\u001b[0m    \u001b[0mdataset_batch_size\u001b[0m\u001b[0;34m:\u001b[0m \u001b[0mint\u001b[0m \u001b[0;34m=\u001b[0m \u001b[0;36m1000\u001b[0m\u001b[0;34m,\u001b[0m\u001b[0;34m\u001b[0m\n",
      "\u001b[0;34m\u001b[0m    \u001b[0mneftune_noise_alpha\u001b[0m\u001b[0;34m:\u001b[0m \u001b[0mOptional\u001b[0m\u001b[0;34m[\u001b[0m\u001b[0mfloat\u001b[0m\u001b[0;34m]\u001b[0m \u001b[0;34m=\u001b[0m \u001b[0;32mNone\u001b[0m\u001b[0;34m,\u001b[0m\u001b[0;34m\u001b[0m\n",
      "\u001b[0;34m\u001b[0m    \u001b[0mmodel_init_kwargs\u001b[0m\u001b[0;34m:\u001b[0m \u001b[0mOptional\u001b[0m\u001b[0;34m[\u001b[0m\u001b[0mDict\u001b[0m\u001b[0;34m]\u001b[0m \u001b[0;34m=\u001b[0m \u001b[0;32mNone\u001b[0m\u001b[0;34m,\u001b[0m\u001b[0;34m\u001b[0m\n",
      "\u001b[0;34m\u001b[0m    \u001b[0mdataset_kwargs\u001b[0m\u001b[0;34m:\u001b[0m \u001b[0mOptional\u001b[0m\u001b[0;34m[\u001b[0m\u001b[0mDict\u001b[0m\u001b[0;34m]\u001b[0m \u001b[0;34m=\u001b[0m \u001b[0;32mNone\u001b[0m\u001b[0;34m,\u001b[0m\u001b[0;34m\u001b[0m\n",
      "\u001b[0;34m\u001b[0m    \u001b[0meval_packing\u001b[0m\u001b[0;34m:\u001b[0m \u001b[0mOptional\u001b[0m\u001b[0;34m[\u001b[0m\u001b[0mbool\u001b[0m\u001b[0;34m]\u001b[0m \u001b[0;34m=\u001b[0m \u001b[0;32mNone\u001b[0m\u001b[0;34m,\u001b[0m\u001b[0;34m\u001b[0m\n",
      "\u001b[0;34m\u001b[0m\u001b[0;34m)\u001b[0m\u001b[0;34m\u001b[0m\u001b[0;34m\u001b[0m\u001b[0m\n",
      "\u001b[0;31mDocstring:\u001b[0m     \n",
      "Class definition of the Supervised Finetuning Trainer (SFT Trainer).\n",
      "This class is a wrapper around the `transformers.Trainer` class and inherits all of its attributes and methods.\n",
      "The trainer takes care of properly initializing the PeftModel in case a user passes a `PeftConfig` object.\n",
      "\n",
      "Args:\n",
      "    model (Union[`transformers.PreTrainedModel`, `nn.Module`, `str`]):\n",
      "        The model to train, can be a `PreTrainedModel`, a `torch.nn.Module` or a string with the model name to\n",
      "        load from cache or download. The model can be also converted to a `PeftModel` if a `PeftConfig` object is\n",
      "        passed to the `peft_config` argument.\n",
      "    args (Optional[`transformers.TrainingArguments`]):\n",
      "        The arguments to tweak for training. Please refer to the official documentation of `transformers.TrainingArguments`\n",
      "        for more information.\n",
      "    data_collator (Optional[`transformers.DataCollator`]):\n",
      "        The data collator to use for training.\n",
      "    train_dataset (Optional[`datasets.Dataset`]):\n",
      "        The dataset to use for training. We recommend users to use `trl.trainer.ConstantLengthDataset` to create their dataset.\n",
      "    eval_dataset (Optional[Union[`datasets.Dataset`, Dict[`str`, `datasets.Dataset`]]]):\n",
      "        The dataset to use for evaluation. We recommend users to use `trl.trainer.ConstantLengthDataset` to create their dataset.\n",
      "    tokenizer (Optional[`transformers.PreTrainedTokenizer`]):\n",
      "        The tokenizer to use for training. If not specified, the tokenizer associated to the model will be used.\n",
      "    model_init (`Callable[[], transformers.PreTrainedModel]`):\n",
      "        The model initializer to use for training. If None is specified, the default model initializer will be used.\n",
      "    compute_metrics (`Callable[[transformers.EvalPrediction], Dict]`, *optional* defaults to None):\n",
      "        The function used to compute metrics during evaluation. It should return a dictionary mapping metric names to metric values.\n",
      "        If not specified, only the loss will be computed during evaluation.\n",
      "    callbacks (`List[transformers.TrainerCallback]`):\n",
      "        The callbacks to use for training.\n",
      "    optimizers (`Tuple[torch.optim.Optimizer, torch.optim.lr_scheduler.LambdaLR]`):\n",
      "        The optimizer and scheduler to use for training.\n",
      "    preprocess_logits_for_metrics (`Callable[[torch.Tensor, torch.Tensor], torch.Tensor]`):\n",
      "        The function to use to preprocess the logits before computing the metrics.\n",
      "    peft_config (`Optional[PeftConfig]`):\n",
      "        The PeftConfig object to use to initialize the PeftModel.\n",
      "    dataset_text_field (`Optional[str]`):\n",
      "        The name of the text field of the dataset, in case this is passed by a user, the trainer will automatically create a\n",
      "        `ConstantLengthDataset` based on the `dataset_text_field` argument.\n",
      "    formatting_func (`Optional[Callable]`):\n",
      "        The formatting function to be used for creating the `ConstantLengthDataset`.\n",
      "    max_seq_length (`Optional[int]`):\n",
      "        The maximum sequence length to use for the `ConstantLengthDataset` and for automatically creating the Dataset. Defaults to `512`.\n",
      "    infinite (`Optional[bool]`):\n",
      "        Whether to use an infinite dataset or not. Defaults to `False`.\n",
      "    num_of_sequences (`Optional[int]`):\n",
      "        The number of sequences to use for the `ConstantLengthDataset`. Defaults to `1024`.\n",
      "    chars_per_token (`Optional[float]`):\n",
      "        The number of characters per token to use for the `ConstantLengthDataset`. Defaults to `3.6`. You can check how this is computed in the\n",
      "        stack-llama example: https://github.com/huggingface/trl/blob/08f550674c553c36c51d1027613c29f14f3676a5/examples/stack_llama/scripts/supervised_finetuning.py#L53.\n",
      "    packing (`Optional[bool]`):\n",
      "        Used only in case `dataset_text_field` is passed. This argument is used by the `ConstantLengthDataset` to pack the sequences\n",
      "        of the dataset.\n",
      "    dataset_num_proc (`Optional[int]`):\n",
      "        The number of workers to use to tokenize the data. Only used when `packing=False`. Defaults to None.\n",
      "    dataset_batch_size (`int`):\n",
      "        The number of examples to tokenize per batch. If batch_size <= 0 or batch_size == None,\n",
      "        tokenize the full dataset as a single batch. Defaults to 1000.\n",
      "    neftune_noise_alpha (`Optional[float]`):\n",
      "        If not `None`, this will activate NEFTune noise embeddings. This has been proven to drastically improve model performances for instruction\n",
      "        fine-tuning. Check out the original paper here: https://arxiv.org/abs/2310.05914 and the original code here: https://github.com/neelsjain/NEFTune\n",
      "    model_init_kwargs: (`Optional[Dict]`, *optional*):\n",
      "        Dict of Optional kwargs to pass when instantiating the model from a string\n",
      "    dataset_kwargs: (`Optional[Dict]`, *optional*):\n",
      "        Dict of Optional kwargs to pass when creating packed or non-packed datasets\n",
      "    eval_packing: (`Optional[bool]`, *optional*):\n",
      "        Whether to pack the eval dataset as well. Defaults to `packing` if `None` is passed.\n",
      "\u001b[0;31mFile:\u001b[0m           ~/Sber_Lora/ShkodnikVenv/lib/python3.11/site-packages/trl/trainer/sft_trainer.py\n",
      "\u001b[0;31mType:\u001b[0m           type\n",
      "\u001b[0;31mSubclasses:\u001b[0m     UnslothTrainer"
     ]
    }
   ],
   "source": [
    "from trl import SFTTrainer\n",
    "?SFTTrainer"
   ]
  },
  {
   "cell_type": "code",
   "execution_count": null,
   "metadata": {},
   "outputs": [],
   "source": [
    "5e-4"
   ]
  },
  {
   "cell_type": "code",
   "execution_count": 71,
   "metadata": {},
   "outputs": [
    {
     "name": "stdout",
     "output_type": "stream",
     "text": [
      "base_model.model.roberta.encoder.layer.0.attention.self.query.lora_A.default.weight ; sum =  nan\n",
      "base_model.model.roberta.encoder.layer.0.attention.self.key.lora_A.default.weight ; sum =  nan\n",
      "base_model.model.roberta.encoder.layer.0.attention.self.value.lora_A.default.weight ; sum =  nan\n",
      "base_model.model.roberta.encoder.layer.1.attention.self.query.lora_A.default.weight ; sum =  nan\n",
      "base_model.model.roberta.encoder.layer.1.attention.self.key.lora_A.default.weight ; sum =  nan\n",
      "base_model.model.roberta.encoder.layer.1.attention.self.value.lora_A.default.weight ; sum =  nan\n",
      "base_model.model.roberta.encoder.layer.2.attention.self.query.lora_A.default.weight ; sum =  nan\n",
      "base_model.model.roberta.encoder.layer.2.attention.self.key.lora_A.default.weight ; sum =  nan\n",
      "base_model.model.roberta.encoder.layer.2.attention.self.value.lora_A.default.weight ; sum =  nan\n",
      "base_model.model.roberta.encoder.layer.3.attention.self.query.lora_A.default.weight ; sum =  nan\n",
      "base_model.model.roberta.encoder.layer.3.attention.self.key.lora_A.default.weight ; sum =  nan\n",
      "base_model.model.roberta.encoder.layer.3.attention.self.value.lora_A.default.weight ; sum =  nan\n",
      "base_model.model.roberta.encoder.layer.4.attention.self.query.lora_A.default.weight ; sum =  nan\n",
      "base_model.model.roberta.encoder.layer.4.attention.self.key.lora_A.default.weight ; sum =  nan\n",
      "base_model.model.roberta.encoder.layer.4.attention.self.value.lora_A.default.weight ; sum =  nan\n",
      "base_model.model.roberta.encoder.layer.5.attention.self.query.lora_A.default.weight ; sum =  nan\n",
      "base_model.model.roberta.encoder.layer.5.attention.self.key.lora_A.default.weight ; sum =  nan\n",
      "base_model.model.roberta.encoder.layer.5.attention.self.value.lora_A.default.weight ; sum =  nan\n",
      "base_model.model.roberta.encoder.layer.6.attention.self.query.lora_A.default.weight ; sum =  nan\n",
      "base_model.model.roberta.encoder.layer.6.attention.self.key.lora_A.default.weight ; sum =  nan\n",
      "base_model.model.roberta.encoder.layer.6.attention.self.value.lora_A.default.weight ; sum =  nan\n",
      "base_model.model.roberta.encoder.layer.7.attention.self.query.lora_A.default.weight ; sum =  nan\n",
      "base_model.model.roberta.encoder.layer.7.attention.self.key.lora_A.default.weight ; sum =  nan\n",
      "base_model.model.roberta.encoder.layer.7.attention.self.value.lora_A.default.weight ; sum =  nan\n",
      "base_model.model.roberta.encoder.layer.8.attention.self.query.lora_A.default.weight ; sum =  nan\n",
      "base_model.model.roberta.encoder.layer.8.attention.self.key.lora_A.default.weight ; sum =  nan\n",
      "base_model.model.roberta.encoder.layer.8.attention.self.value.lora_A.default.weight ; sum =  nan\n",
      "base_model.model.roberta.encoder.layer.9.attention.self.query.lora_A.default.weight ; sum =  nan\n",
      "base_model.model.roberta.encoder.layer.9.attention.self.key.lora_A.default.weight ; sum =  nan\n",
      "base_model.model.roberta.encoder.layer.9.attention.self.value.lora_A.default.weight ; sum =  nan\n",
      "base_model.model.roberta.encoder.layer.10.attention.self.query.lora_A.default.weight ; sum =  nan\n",
      "base_model.model.roberta.encoder.layer.10.attention.self.key.lora_A.default.weight ; sum =  nan\n",
      "base_model.model.roberta.encoder.layer.10.attention.self.value.lora_A.default.weight ; sum =  nan\n",
      "base_model.model.roberta.encoder.layer.11.attention.self.query.lora_A.default.weight ; sum =  nan\n",
      "base_model.model.roberta.encoder.layer.11.attention.self.key.lora_A.default.weight ; sum =  nan\n",
      "base_model.model.roberta.encoder.layer.11.attention.self.value.lora_A.default.weight ; sum =  nan\n"
     ]
    }
   ],
   "source": [
    "for name, param in model.named_parameters():\n",
    "    if \"lora_A\" in name:\n",
    "        print(name, \"; sum = \", param.sum().item())"
   ]
  },
  {
   "cell_type": "code",
   "execution_count": null,
   "metadata": {},
   "outputs": [],
   "source": []
  },
  {
   "cell_type": "code",
   "execution_count": null,
   "metadata": {},
   "outputs": [],
   "source": []
  }
 ],
 "metadata": {
  "kernelspec": {
   "display_name": "sber_ai",
   "language": "python",
   "name": "python3"
  },
  "language_info": {
   "codemirror_mode": {
    "name": "ipython",
    "version": 3
   },
   "file_extension": ".py",
   "mimetype": "text/x-python",
   "name": "python",
   "nbconvert_exporter": "python",
   "pygments_lexer": "ipython3",
   "version": "3.11.10"
  }
 },
 "nbformat": 4,
 "nbformat_minor": 2
}
